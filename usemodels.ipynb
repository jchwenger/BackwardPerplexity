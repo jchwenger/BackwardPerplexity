{
 "cells": [
  {
   "cell_type": "code",
   "execution_count": 1,
   "metadata": {},
   "outputs": [
    {
     "name": "stderr",
     "output_type": "stream",
     "text": [
      "c:\\Users\\vassi\\penv\\Lib\\site-packages\\tqdm\\auto.py:21: TqdmWarning: IProgress not found. Please update jupyter and ipywidgets. See https://ipywidgets.readthedocs.io/en/stable/user_install.html\n",
      "  from .autonotebook import tqdm as notebook_tqdm\n"
     ]
    },
    {
     "name": "stdout",
     "output_type": "stream",
     "text": [
      "number of parameters: 405.50M\n",
      "Without head : 354.04M\n",
      "Dataset contains 948.43M tokens, resulting in 14819k examples.\n"
     ]
    }
   ],
   "source": [
    "from modules.models import MinGPT_Trainer, MinGPT\n",
    "from modules.datasets import TokenTextBOS\n",
    "from modules import get_tokenizer\n",
    "import torch.nn.functional as F\n",
    "\n",
    "device = 'cuda'\n",
    "# Use the trainer to load the model from the '.state' file\n",
    "name,config,state_dict = MinGPT_Trainer.model_config_from_state(state_path='assembly_med.state', device=device)\n",
    "\n",
    "# Create the model and load the weights\n",
    "model = MinGPT(**config)\n",
    "model.load_state_dict(state_dict,strict=True)\n",
    "\n",
    "# Load the dataset\n",
    "dataset = TokenTextBOS('assembly.h5', attn_length=128, stride=64, backwards=False)\n",
    "# dataset[i] returns a tuple of tensors (inputs, targets), of shape (L,) where L is number of tokens \n",
    "# Get the tokenizer\n",
    "tokenizer = get_tokenizer(m_path='modules/tokenizers/ass_tokenizer')"
   ]
  },
  {
   "cell_type": "code",
   "execution_count": 2,
   "metadata": {},
   "outputs": [
    {
     "name": "stdout",
     "output_type": "stream",
     "text": [
      "detokenized code :  <|endoftext|>import trigger_teleporter_touch\n",
      "import Touch_DoorTrigger\n",
      "import G_Run\n",
      "output shape :  torch.Size([1, 20, 50257])\n",
      "answer shape :  torch.Size([20])\n",
      "Average perplexity :  tensor(1.1093, grad_fn=<MeanBackward0>)\n"
     ]
    }
   ],
   "source": [
    "datapoint = 40 \n",
    "\n",
    "sentence = dataset[datapoint][0][:20]\n",
    "answer = dataset[datapoint][1][:20]\n",
    "# 'answer' simply contains the same tokens, translate once forward.\n",
    "print('detokenized code : ', tokenizer.detokenize(sentence))\n",
    "# the token <|endoftext|> is used as 'beggining of sequence' token\n",
    "\n",
    "# Use the model to get predictions :\n",
    "output = model(sentence[None,:]) # add batch dimension to input, (1,T)\n",
    "\n",
    "B,T,V = output.shape\n",
    "print('output shape : ', output.shape) # output has shape (1,T,V) where V=50257, and contains probabilities\n",
    "print('answer shape : ', answer.shape) # answer has shape (1,T)\n",
    "\n",
    "# output[0,i,k] is the probability that the (i+1)'th token is token number k\n",
    "\n",
    "# to compute the loss, or perplexity, can use the 'answer' fromt he dataset\n",
    "# 1. reshape output to shape (1,V,T) as required by pytorch :\n",
    "output = output.reshape(B*T,V)\n",
    "answer = answer.reshape(B*T,)\n",
    "# 2. answer is already \n",
    "perplexities = F.cross_entropy(output,answer,reduction='none') # (B*T,) tensor of perplexities\n",
    "\n",
    "print('Average perplexity : ', perplexities.mean())"
   ]
  },
  {
   "cell_type": "code",
   "execution_count": 3,
   "metadata": {},
   "outputs": [
    {
     "name": "stderr",
     "output_type": "stream",
     "text": [
      "100%|██████████| 250/250 [05:15<00:00,  1.26s/it]\n"
     ]
    }
   ],
   "source": [
    "# Models have a function to generate new data with sampling, but it's probably not useful\n",
    "# Takes a while on CPU\n",
    "generation = model.generate(sentence[None,:], max_new_tokens=250)\n",
    "\n"
   ]
  },
  {
   "cell_type": "code",
   "execution_count": 5,
   "metadata": {},
   "outputs": [
    {
     "name": "stdout",
     "output_type": "stream",
     "text": [
      "<|endoftext|>import trigger_teleporter_touch\n",
      "import Touch_DoorTrigger\n",
      "import G_RunMover\n",
      "import fire_prox\n",
      "import fire_nail\n",
      "import fire_grapple\n",
      "import fire_bfg\n",
      "import fire_rocket\n",
      "import fire_grenade\n",
      "import fire_plasma\n",
      "import G_RunMissile\n",
      "import TossClientCubes\n",
      "import TossClientPersistantPowerups\n",
      "import TossClientPersistantPowerups\n",
      "import TossClientItems\n",
      "import body_die\n",
      "import G_InvulnerabilityEffect\n",
      "import G_RadiusDamage\n",
      "import G_Damage\n",
      "import CanDamage\n",
      "import BuildShaderStateConfig\n",
      "import AddRemap\n",
      "import G_SetOrigin\n",
      "import G_AddEvent\n",
      "import G_AddPredictableEvent\n",
      "import vectoyaw\n",
      "import vtos\n",
      "import tv\n",
      "import G_TouchTriggers\n",
      "import G_EntitiesFree\n",
      "import G_FreeEntity\n",
      "import G_Sound\n",
      "import G_TempEntity\n",
      "import G_Spawn\n",
      "import G_InitGentity\n",
      "import G_SetMovedir\n",
      "import G_UseTargets\n",
      "import G_PickTarget\n",
      "import G_Find\n",
      "import G_KillBox\n",
      "import G_TeamCommand\n",
      "import G_SoundIndex\n",
      "import G_ModelIndex\n",
      "import SaveRegisteredItems\n",
      "import RegisterItem\n",
      "\n"
     ]
    }
   ],
   "source": [
    "print(tokenizer.detokenize(generation))"
   ]
  },
  {
   "cell_type": "code",
   "execution_count": null,
   "metadata": {},
   "outputs": [],
   "source": []
  }
 ],
 "metadata": {
  "kernelspec": {
   "display_name": "penv",
   "language": "python",
   "name": "python3"
  },
  "language_info": {
   "codemirror_mode": {
    "name": "ipython",
    "version": 3
   },
   "file_extension": ".py",
   "mimetype": "text/x-python",
   "name": "python",
   "nbconvert_exporter": "python",
   "pygments_lexer": "ipython3",
   "version": "3.12.3"
  }
 },
 "nbformat": 4,
 "nbformat_minor": 2
}
